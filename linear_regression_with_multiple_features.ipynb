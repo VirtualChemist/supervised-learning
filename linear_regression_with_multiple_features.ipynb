{
  "nbformat": 4,
  "nbformat_minor": 0,
  "metadata": {
    "colab": {
      "name": "linear regression with multiple features",
      "provenance": [],
      "collapsed_sections": [],
      "include_colab_link": true
    },
    "kernelspec": {
      "name": "python3",
      "display_name": "Python 3"
    }
  },
  "cells": [
    {
      "cell_type": "markdown",
      "metadata": {
        "id": "view-in-github",
        "colab_type": "text"
      },
      "source": [
        "<a href=\"https://colab.research.google.com/github/saurabh-shaw/supervised-learning/blob/master/linear_regression_with_multiple_features.ipynb\" target=\"_parent\"><img src=\"https://colab.research.google.com/assets/colab-badge.svg\" alt=\"Open In Colab\"/></a>"
      ]
    },
    {
      "cell_type": "markdown",
      "metadata": {
        "id": "dS1bXWf-T5Rz",
        "colab_type": "text"
      },
      "source": [
        "# Using linear regression, prediction of sales using all advertisement methology.... multiple features "
      ]
    },
    {
      "cell_type": "code",
      "metadata": {
        "id": "ko1gRD2TObKB",
        "colab_type": "code",
        "colab": {}
      },
      "source": [
        "import pandas as pd   #importing essential  pre-defined functions\n",
        "import numpy as np\n",
        "import matplotlib.pyplot as plt"
      ],
      "execution_count": 0,
      "outputs": []
    },
    {
      "cell_type": "code",
      "metadata": {
        "id": "nTQ6WJDQRBwH",
        "colab_type": "code",
        "colab": {}
      },
      "source": [
        "data=pd.read_csv(\"/content/sample_data/Advertising.csv\")  # reading data "
      ],
      "execution_count": 0,
      "outputs": []
    },
    {
      "cell_type": "code",
      "metadata": {
        "id": "twHbkAiuRGF5",
        "colab_type": "code",
        "outputId": "34b3cac5-d854-4c14-936d-13d79b854127",
        "colab": {
          "base_uri": "https://localhost:8080/",
          "height": 406
        }
      },
      "source": [
        "data"
      ],
      "execution_count": 0,
      "outputs": [
        {
          "output_type": "execute_result",
          "data": {
            "text/html": [
              "<div>\n",
              "<style scoped>\n",
              "    .dataframe tbody tr th:only-of-type {\n",
              "        vertical-align: middle;\n",
              "    }\n",
              "\n",
              "    .dataframe tbody tr th {\n",
              "        vertical-align: top;\n",
              "    }\n",
              "\n",
              "    .dataframe thead th {\n",
              "        text-align: right;\n",
              "    }\n",
              "</style>\n",
              "<table border=\"1\" class=\"dataframe\">\n",
              "  <thead>\n",
              "    <tr style=\"text-align: right;\">\n",
              "      <th></th>\n",
              "      <th>Unnamed: 0</th>\n",
              "      <th>TV</th>\n",
              "      <th>radio</th>\n",
              "      <th>newspaper</th>\n",
              "      <th>sales</th>\n",
              "    </tr>\n",
              "  </thead>\n",
              "  <tbody>\n",
              "    <tr>\n",
              "      <th>0</th>\n",
              "      <td>1</td>\n",
              "      <td>230.1</td>\n",
              "      <td>37.8</td>\n",
              "      <td>69.2</td>\n",
              "      <td>22.1</td>\n",
              "    </tr>\n",
              "    <tr>\n",
              "      <th>1</th>\n",
              "      <td>2</td>\n",
              "      <td>44.5</td>\n",
              "      <td>39.3</td>\n",
              "      <td>45.1</td>\n",
              "      <td>10.4</td>\n",
              "    </tr>\n",
              "    <tr>\n",
              "      <th>2</th>\n",
              "      <td>3</td>\n",
              "      <td>17.2</td>\n",
              "      <td>45.9</td>\n",
              "      <td>69.3</td>\n",
              "      <td>9.3</td>\n",
              "    </tr>\n",
              "    <tr>\n",
              "      <th>3</th>\n",
              "      <td>4</td>\n",
              "      <td>151.5</td>\n",
              "      <td>41.3</td>\n",
              "      <td>58.5</td>\n",
              "      <td>18.5</td>\n",
              "    </tr>\n",
              "    <tr>\n",
              "      <th>4</th>\n",
              "      <td>5</td>\n",
              "      <td>180.8</td>\n",
              "      <td>10.8</td>\n",
              "      <td>58.4</td>\n",
              "      <td>12.9</td>\n",
              "    </tr>\n",
              "    <tr>\n",
              "      <th>...</th>\n",
              "      <td>...</td>\n",
              "      <td>...</td>\n",
              "      <td>...</td>\n",
              "      <td>...</td>\n",
              "      <td>...</td>\n",
              "    </tr>\n",
              "    <tr>\n",
              "      <th>195</th>\n",
              "      <td>196</td>\n",
              "      <td>38.2</td>\n",
              "      <td>3.7</td>\n",
              "      <td>13.8</td>\n",
              "      <td>7.6</td>\n",
              "    </tr>\n",
              "    <tr>\n",
              "      <th>196</th>\n",
              "      <td>197</td>\n",
              "      <td>94.2</td>\n",
              "      <td>4.9</td>\n",
              "      <td>8.1</td>\n",
              "      <td>9.7</td>\n",
              "    </tr>\n",
              "    <tr>\n",
              "      <th>197</th>\n",
              "      <td>198</td>\n",
              "      <td>177.0</td>\n",
              "      <td>9.3</td>\n",
              "      <td>6.4</td>\n",
              "      <td>12.8</td>\n",
              "    </tr>\n",
              "    <tr>\n",
              "      <th>198</th>\n",
              "      <td>199</td>\n",
              "      <td>283.6</td>\n",
              "      <td>42.0</td>\n",
              "      <td>66.2</td>\n",
              "      <td>25.5</td>\n",
              "    </tr>\n",
              "    <tr>\n",
              "      <th>199</th>\n",
              "      <td>200</td>\n",
              "      <td>232.1</td>\n",
              "      <td>8.6</td>\n",
              "      <td>8.7</td>\n",
              "      <td>13.4</td>\n",
              "    </tr>\n",
              "  </tbody>\n",
              "</table>\n",
              "<p>200 rows × 5 columns</p>\n",
              "</div>"
            ],
            "text/plain": [
              "     Unnamed: 0     TV  radio  newspaper  sales\n",
              "0             1  230.1   37.8       69.2   22.1\n",
              "1             2   44.5   39.3       45.1   10.4\n",
              "2             3   17.2   45.9       69.3    9.3\n",
              "3             4  151.5   41.3       58.5   18.5\n",
              "4             5  180.8   10.8       58.4   12.9\n",
              "..          ...    ...    ...        ...    ...\n",
              "195         196   38.2    3.7       13.8    7.6\n",
              "196         197   94.2    4.9        8.1    9.7\n",
              "197         198  177.0    9.3        6.4   12.8\n",
              "198         199  283.6   42.0       66.2   25.5\n",
              "199         200  232.1    8.6        8.7   13.4\n",
              "\n",
              "[200 rows x 5 columns]"
            ]
          },
          "metadata": {
            "tags": []
          },
          "execution_count": 6
        }
      ]
    },
    {
      "cell_type": "code",
      "metadata": {
        "id": "LHnXi1KyRzy7",
        "colab_type": "code",
        "outputId": "25a58034-cf44-49e3-ce06-8bf14f31c658",
        "colab": {
          "base_uri": "https://localhost:8080/",
          "height": 34
        }
      },
      "source": [
        "data.columns #printing columns "
      ],
      "execution_count": 0,
      "outputs": [
        {
          "output_type": "execute_result",
          "data": {
            "text/plain": [
              "Index(['Unnamed: 0', 'TV', 'radio', 'newspaper', 'sales'], dtype='object')"
            ]
          },
          "metadata": {
            "tags": []
          },
          "execution_count": 10
        }
      ]
    },
    {
      "cell_type": "code",
      "metadata": {
        "id": "eGlNGh7dRHYL",
        "colab_type": "code",
        "colab": {}
      },
      "source": [
        "from sklearn.linear_model import LinearRegression     #importing modules used in linear regression\n",
        "from sklearn.metrics import r2_score\n",
        "reg=LinearRegression"
      ],
      "execution_count": 0,
      "outputs": []
    },
    {
      "cell_type": "code",
      "metadata": {
        "id": "NQOIGhJxRbpk",
        "colab_type": "code",
        "colab": {}
      },
      "source": [
        "X=data.drop(['Unnamed: 0','sales'],axis=1)      #droping reductant data \n",
        "Y=data['sales']"
      ],
      "execution_count": 0,
      "outputs": []
    },
    {
      "cell_type": "code",
      "metadata": {
        "id": "lWvMgTazSIK3",
        "colab_type": "code",
        "outputId": "d4c94079-ba7a-4170-8d54-b16162651a0c",
        "colab": {
          "base_uri": "https://localhost:8080/",
          "height": 1000
        }
      },
      "source": [
        "X.values.reshape(-1,1)\n",
        "Y.values.reshape(-1,1)"
      ],
      "execution_count": 0,
      "outputs": [
        {
          "output_type": "execute_result",
          "data": {
            "text/plain": [
              "array([[22.1],\n",
              "       [10.4],\n",
              "       [ 9.3],\n",
              "       [18.5],\n",
              "       [12.9],\n",
              "       [ 7.2],\n",
              "       [11.8],\n",
              "       [13.2],\n",
              "       [ 4.8],\n",
              "       [10.6],\n",
              "       [ 8.6],\n",
              "       [17.4],\n",
              "       [ 9.2],\n",
              "       [ 9.7],\n",
              "       [19. ],\n",
              "       [22.4],\n",
              "       [12.5],\n",
              "       [24.4],\n",
              "       [11.3],\n",
              "       [14.6],\n",
              "       [18. ],\n",
              "       [12.5],\n",
              "       [ 5.6],\n",
              "       [15.5],\n",
              "       [ 9.7],\n",
              "       [12. ],\n",
              "       [15. ],\n",
              "       [15.9],\n",
              "       [18.9],\n",
              "       [10.5],\n",
              "       [21.4],\n",
              "       [11.9],\n",
              "       [ 9.6],\n",
              "       [17.4],\n",
              "       [ 9.5],\n",
              "       [12.8],\n",
              "       [25.4],\n",
              "       [14.7],\n",
              "       [10.1],\n",
              "       [21.5],\n",
              "       [16.6],\n",
              "       [17.1],\n",
              "       [20.7],\n",
              "       [12.9],\n",
              "       [ 8.5],\n",
              "       [14.9],\n",
              "       [10.6],\n",
              "       [23.2],\n",
              "       [14.8],\n",
              "       [ 9.7],\n",
              "       [11.4],\n",
              "       [10.7],\n",
              "       [22.6],\n",
              "       [21.2],\n",
              "       [20.2],\n",
              "       [23.7],\n",
              "       [ 5.5],\n",
              "       [13.2],\n",
              "       [23.8],\n",
              "       [18.4],\n",
              "       [ 8.1],\n",
              "       [24.2],\n",
              "       [15.7],\n",
              "       [14. ],\n",
              "       [18. ],\n",
              "       [ 9.3],\n",
              "       [ 9.5],\n",
              "       [13.4],\n",
              "       [18.9],\n",
              "       [22.3],\n",
              "       [18.3],\n",
              "       [12.4],\n",
              "       [ 8.8],\n",
              "       [11. ],\n",
              "       [17. ],\n",
              "       [ 8.7],\n",
              "       [ 6.9],\n",
              "       [14.2],\n",
              "       [ 5.3],\n",
              "       [11. ],\n",
              "       [11.8],\n",
              "       [12.3],\n",
              "       [11.3],\n",
              "       [13.6],\n",
              "       [21.7],\n",
              "       [15.2],\n",
              "       [12. ],\n",
              "       [16. ],\n",
              "       [12.9],\n",
              "       [16.7],\n",
              "       [11.2],\n",
              "       [ 7.3],\n",
              "       [19.4],\n",
              "       [22.2],\n",
              "       [11.5],\n",
              "       [16.9],\n",
              "       [11.7],\n",
              "       [15.5],\n",
              "       [25.4],\n",
              "       [17.2],\n",
              "       [11.7],\n",
              "       [23.8],\n",
              "       [14.8],\n",
              "       [14.7],\n",
              "       [20.7],\n",
              "       [19.2],\n",
              "       [ 7.2],\n",
              "       [ 8.7],\n",
              "       [ 5.3],\n",
              "       [19.8],\n",
              "       [13.4],\n",
              "       [21.8],\n",
              "       [14.1],\n",
              "       [15.9],\n",
              "       [14.6],\n",
              "       [12.6],\n",
              "       [12.2],\n",
              "       [ 9.4],\n",
              "       [15.9],\n",
              "       [ 6.6],\n",
              "       [15.5],\n",
              "       [ 7. ],\n",
              "       [11.6],\n",
              "       [15.2],\n",
              "       [19.7],\n",
              "       [10.6],\n",
              "       [ 6.6],\n",
              "       [ 8.8],\n",
              "       [24.7],\n",
              "       [ 9.7],\n",
              "       [ 1.6],\n",
              "       [12.7],\n",
              "       [ 5.7],\n",
              "       [19.6],\n",
              "       [10.8],\n",
              "       [11.6],\n",
              "       [ 9.5],\n",
              "       [20.8],\n",
              "       [ 9.6],\n",
              "       [20.7],\n",
              "       [10.9],\n",
              "       [19.2],\n",
              "       [20.1],\n",
              "       [10.4],\n",
              "       [11.4],\n",
              "       [10.3],\n",
              "       [13.2],\n",
              "       [25.4],\n",
              "       [10.9],\n",
              "       [10.1],\n",
              "       [16.1],\n",
              "       [11.6],\n",
              "       [16.6],\n",
              "       [19. ],\n",
              "       [15.6],\n",
              "       [ 3.2],\n",
              "       [15.3],\n",
              "       [10.1],\n",
              "       [ 7.3],\n",
              "       [12.9],\n",
              "       [14.4],\n",
              "       [13.3],\n",
              "       [14.9],\n",
              "       [18. ],\n",
              "       [11.9],\n",
              "       [11.9],\n",
              "       [ 8. ],\n",
              "       [12.2],\n",
              "       [17.1],\n",
              "       [15. ],\n",
              "       [ 8.4],\n",
              "       [14.5],\n",
              "       [ 7.6],\n",
              "       [11.7],\n",
              "       [11.5],\n",
              "       [27. ],\n",
              "       [20.2],\n",
              "       [11.7],\n",
              "       [11.8],\n",
              "       [12.6],\n",
              "       [10.5],\n",
              "       [12.2],\n",
              "       [ 8.7],\n",
              "       [26.2],\n",
              "       [17.6],\n",
              "       [22.6],\n",
              "       [10.3],\n",
              "       [17.3],\n",
              "       [15.9],\n",
              "       [ 6.7],\n",
              "       [10.8],\n",
              "       [ 9.9],\n",
              "       [ 5.9],\n",
              "       [19.6],\n",
              "       [17.3],\n",
              "       [ 7.6],\n",
              "       [ 9.7],\n",
              "       [12.8],\n",
              "       [25.5],\n",
              "       [13.4]])"
            ]
          },
          "metadata": {
            "tags": []
          },
          "execution_count": 16
        }
      ]
    },
    {
      "cell_type": "code",
      "metadata": {
        "id": "o6bmmKDdSNRF",
        "colab_type": "code",
        "colab": {}
      },
      "source": [
        "reg=LinearRegression()    #using linear regression"
      ],
      "execution_count": 0,
      "outputs": []
    },
    {
      "cell_type": "code",
      "metadata": {
        "id": "gDLaq2g0Sn4J",
        "colab_type": "code",
        "colab": {}
      },
      "source": [
        "reg=reg.fit(X,Y)     #fiting data "
      ],
      "execution_count": 0,
      "outputs": []
    },
    {
      "cell_type": "code",
      "metadata": {
        "id": "BVmWB5cWSsOI",
        "colab_type": "code",
        "colab": {}
      },
      "source": [
        "r2_score=reg.score(X,Y) #calculating r_square_score "
      ],
      "execution_count": 0,
      "outputs": []
    },
    {
      "cell_type": "code",
      "metadata": {
        "id": "01QB1WGwSzVt",
        "colab_type": "code",
        "outputId": "a623263b-aaea-49d1-c76b-53ef0cc3d88d",
        "colab": {
          "base_uri": "https://localhost:8080/",
          "height": 34
        }
      },
      "source": [
        "r2_score"
      ],
      "execution_count": 0,
      "outputs": [
        {
          "output_type": "execute_result",
          "data": {
            "text/plain": [
              "0.8972106381789521"
            ]
          },
          "metadata": {
            "tags": []
          },
          "execution_count": 20
        }
      ]
    },
    {
      "cell_type": "code",
      "metadata": {
        "id": "OBLzSz36S1px",
        "colab_type": "code",
        "colab": {}
      },
      "source": [
        ""
      ],
      "execution_count": 0,
      "outputs": []
    },
    {
      "cell_type": "markdown",
      "metadata": {
        "id": "TKf6wSIQUFdP",
        "colab_type": "text"
      },
      "source": [
        "# from this,i predict the value of r square score using multiple features like newspaper,radio,tv."
      ]
    }
  ]
}